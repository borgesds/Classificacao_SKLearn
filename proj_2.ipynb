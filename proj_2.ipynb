{
 "cells": [
  {
   "cell_type": "markdown",
   "metadata": {},
   "source": [
    "<h1 style=\"color:red\">Projeto 2 - Classificação</h1>\n",
    "\n",
    "- encontramos uma tabela com quatro colunas diferentes, e na qual cada item representa um usuário que acessou um determinado site. Neste site, temos três páginas diferentes: a principal (home); a how it works, que explica o funcionamento do site; e contact, para entrar em contato. Em cada uma dessas três colunas, que são as features, temos 1 ou 0, indicando se um usuário específico acessou essa página ou não, respectivamente. Por enquanto não nos importa saber a ordem de páginas acessada pelo usuário. Também temos uma quarta coluna (bought) indicando se esse usuário comprou o produto (1) ou não (0). Abaixo temos uma parte da tabela para demonstração: \n",
    "\n",
    "| home | how_it_works | contact | bought |\n",
    "|------|--------------|---------|--------|\n",
    "|   1  |       1      |    0    |    0   |\n",
    "|   1  |       1      |    0    |    0   |\n",
    "|   1  |       1      |    0    |    0   |\n",
    "|   1  |       1      |    0    |    0   |\n",
    "|   1  |       1      |    1    |    1   |\n",
    "|   1  |       1      |    0    |    0   |\n",
    "\n"
   ]
  },
  {
   "cell_type": "code",
   "execution_count": 9,
   "metadata": {},
   "outputs": [],
   "source": [
    "import pandas as pd\n",
    "from sklearn.svm import LinearSVC\n",
    "from sklearn.metrics import accuracy_score as accuracy\n",
    "from sklearn.model_selection import train_test_split"
   ]
  },
  {
   "cell_type": "code",
   "execution_count": 10,
   "metadata": {},
   "outputs": [
    {
     "data": {
      "text/html": [
       "<div>\n",
       "<style scoped>\n",
       "    .dataframe tbody tr th:only-of-type {\n",
       "        vertical-align: middle;\n",
       "    }\n",
       "\n",
       "    .dataframe tbody tr th {\n",
       "        vertical-align: top;\n",
       "    }\n",
       "\n",
       "    .dataframe thead th {\n",
       "        text-align: right;\n",
       "    }\n",
       "</style>\n",
       "<table border=\"1\" class=\"dataframe\">\n",
       "  <thead>\n",
       "    <tr style=\"text-align: right;\">\n",
       "      <th></th>\n",
       "      <th>home</th>\n",
       "      <th>how_it_works</th>\n",
       "      <th>contact</th>\n",
       "      <th>bought</th>\n",
       "    </tr>\n",
       "  </thead>\n",
       "  <tbody>\n",
       "    <tr>\n",
       "      <th>0</th>\n",
       "      <td>1</td>\n",
       "      <td>1</td>\n",
       "      <td>0</td>\n",
       "      <td>0</td>\n",
       "    </tr>\n",
       "    <tr>\n",
       "      <th>1</th>\n",
       "      <td>1</td>\n",
       "      <td>1</td>\n",
       "      <td>0</td>\n",
       "      <td>0</td>\n",
       "    </tr>\n",
       "    <tr>\n",
       "      <th>2</th>\n",
       "      <td>1</td>\n",
       "      <td>1</td>\n",
       "      <td>0</td>\n",
       "      <td>0</td>\n",
       "    </tr>\n",
       "    <tr>\n",
       "      <th>3</th>\n",
       "      <td>1</td>\n",
       "      <td>1</td>\n",
       "      <td>0</td>\n",
       "      <td>0</td>\n",
       "    </tr>\n",
       "    <tr>\n",
       "      <th>4</th>\n",
       "      <td>1</td>\n",
       "      <td>1</td>\n",
       "      <td>0</td>\n",
       "      <td>0</td>\n",
       "    </tr>\n",
       "  </tbody>\n",
       "</table>\n",
       "</div>"
      ],
      "text/plain": [
       "   home  how_it_works  contact  bought\n",
       "0     1             1        0       0\n",
       "1     1             1        0       0\n",
       "2     1             1        0       0\n",
       "3     1             1        0       0\n",
       "4     1             1        0       0"
      ]
     },
     "execution_count": 10,
     "metadata": {},
     "output_type": "execute_result"
    }
   ],
   "source": [
    "uri = \"https://gist.githubusercontent.com/guilhermesilveira/2d2efa37d66b6c84a722ea627a897ced/raw/10968b997d885cbded1c92938c7a9912ba41c615/tracking.csv\"\n",
    "\n",
    "dados = pd.read_csv(uri)\n",
    "dados.head()"
   ]
  },
  {
   "cell_type": "code",
   "execution_count": 11,
   "metadata": {},
   "outputs": [],
   "source": [
    "# renomear colunas\n",
    "mapa = {\n",
    "    \"home\": \"principal\", \n",
    "    \"how_it_works\": \"como_funciona\", \n",
    "    \"contact\": \"contato\",\n",
    "    \"bought\": \"comprou\"\n",
    "}\n",
    "\n",
    "dados = dados.rename(columns=mapa)\n"
   ]
  },
  {
   "cell_type": "code",
   "execution_count": 12,
   "metadata": {},
   "outputs": [
    {
     "data": {
      "text/plain": [
       "(99, 4)"
      ]
     },
     "execution_count": 12,
     "metadata": {},
     "output_type": "execute_result"
    }
   ],
   "source": [
    "# vamos separar o x e o y\n",
    "# nossa base x vai ser: home, how_it_works, contact que são as paginas que foram acessadar\n",
    "# e o y é bought, se comprou ou não\n",
    "\n",
    "x = dados[[\"principal\", \"como_funciona\", \"contato\"]]\n",
    "y = dados[\"comprou\"]\n",
    "\n",
    "# qual é o tamanho dos dados\n",
    "dados.shape"
   ]
  },
  {
   "cell_type": "code",
   "execution_count": 13,
   "metadata": {},
   "outputs": [
    {
     "name": "stdout",
     "output_type": "stream",
     "text": [
      "Treinaremos com 75 \n",
      "Testaremos com 24\n"
     ]
    }
   ],
   "source": [
    "# vamos treinar a maor parte deses dados\n",
    "# 75% para treino\n",
    "# 25% para testar\n",
    "\n",
    "# treino\n",
    "treino_x = x[:75]\n",
    "treino_y = y[:75]\n",
    "\n",
    "# teste\n",
    "teste_x = x[75:]\n",
    "teste_y = y[75:]\n",
    "\n",
    "print(f\"Treinaremos com {len(treino_x)} \\nTestaremos com {len(teste_x)}\")"
   ]
  },
  {
   "cell_type": "code",
   "execution_count": 14,
   "metadata": {},
   "outputs": [
    {
     "name": "stdout",
     "output_type": "stream",
     "text": [
      "Taxa de acerto: 95.83 %\n"
     ]
    }
   ],
   "source": [
    "# treinar o modelo\n",
    "model = LinearSVC(dual=False)\n",
    "model.fit(treino_x, treino_y)\n",
    "\n",
    "previsoes = model.predict(teste_x)\n",
    "\n",
    "# visualizar nossa acuracia\n",
    "taxa_de_acerto = accuracy(teste_y, previsoes)\n",
    "taxa_de_acerto = round(taxa_de_acerto, 4)\n",
    "\n",
    "print(f\"Taxa de acerto: {taxa_de_acerto * 100} %\")"
   ]
  },
  {
   "cell_type": "markdown",
   "metadata": {},
   "source": [
    "#### Separar treino e teste pelo sklearn"
   ]
  },
  {
   "cell_type": "code",
   "execution_count": 22,
   "metadata": {},
   "outputs": [
    {
     "name": "stdout",
     "output_type": "stream",
     "text": [
      "Treinaremos com 74 \n",
      "Testaremos com 25\n",
      "Taxa de acerto: 96.0 %\n",
      "comprou\n",
      "0    47\n",
      "1    27\n",
      "Name: count, dtype: int64\n",
      "comprou\n",
      "0    19\n",
      "1     6\n",
      "Name: count, dtype: int64\n"
     ]
    }
   ],
   "source": [
    "# chamamos a base toda dividida em x e y\n",
    "\n",
    "# para que toda vez que rodar não pegue dados aleatorios vamo usar um seed\n",
    "# seed vai definir a ordem dos numeros aleatorios que a biblioteca pega, ou seja não vai ter mais dado aleatorios\n",
    "\n",
    "SEED = 20\n",
    "\n",
    "treino_x, teste_x, treino_y, teste_y = train_test_split(x, y, random_state=SEED, test_size=0.25)\n",
    "\n",
    "print(f\"Treinaremos com {len(treino_x)} \\nTestaremos com {len(teste_x)}\")\n",
    "\n",
    "# treinar o modelo\n",
    "model = LinearSVC(dual=False)\n",
    "model.fit(treino_x, treino_y)\n",
    "\n",
    "previsoes = model.predict(teste_x)\n",
    "\n",
    "# visualizar nossa acuracia\n",
    "taxa_de_acerto = accuracy(teste_y, previsoes)\n",
    "taxa_de_acerto = round(taxa_de_acerto, 4)\n",
    "\n",
    "print(f\"Taxa de acerto: {taxa_de_acerto * 100} %\")\n",
    "\n",
    "print(treino_y.value_counts()) # não comprou > 47 / comprou > 27 = 1,74 podemos dizer que é 2 que não compraram para 1 que comprou\n",
    "\n",
    "print(teste_y.value_counts()) # não comprou > 19 / comprou > 6 = 3,17 podemos dizer que é 3 que não compraram para 1 que comprou"
   ]
  },
  {
   "cell_type": "code",
   "execution_count": 23,
   "metadata": {},
   "outputs": [
    {
     "name": "stdout",
     "output_type": "stream",
     "text": [
      "Treinaremos com 74 \n",
      "Testaremos com 25\n",
      "Taxa de acerto: 96.0 %\n",
      "comprou\n",
      "0    49\n",
      "1    25\n",
      "Name: count, dtype: int64\n",
      "comprou\n",
      "0    17\n",
      "1     8\n",
      "Name: count, dtype: int64\n"
     ]
    }
   ],
   "source": [
    "# vamos repetir o codigo,mais agora vamos stratificar ele\n",
    "# stratificar é igualar o maximo possivel os dados de treino_y e teste_y\n",
    "\n",
    "SEED = 20\n",
    "\n",
    "treino_x, teste_x, treino_y, teste_y = train_test_split(x, y, \n",
    "                                                        random_state=SEED, \n",
    "                                                        test_size=0.25,\n",
    "                                                        stratify=y)\n",
    "\n",
    "print(f\"Treinaremos com {len(treino_x)} \\nTestaremos com {len(teste_x)}\")\n",
    "\n",
    "# treinar o modelo\n",
    "model = LinearSVC(dual=False)\n",
    "model.fit(treino_x, treino_y)\n",
    "\n",
    "previsoes = model.predict(teste_x)\n",
    "\n",
    "# visualizar nossa acuracia\n",
    "taxa_de_acerto = accuracy(teste_y, previsoes)\n",
    "taxa_de_acerto = round(taxa_de_acerto, 4)\n",
    "\n",
    "print(f\"Taxa de acerto: {taxa_de_acerto * 100} %\")\n",
    "\n",
    "\n",
    "print(treino_y.value_counts()) # não comprou > 47 / comprou > 25 = 1,88 podemos dizer que é 2 que não compraram para 1 que comprou\n",
    "\n",
    "print(teste_y.value_counts()) # não comprou > 17 / comprou > 8 = 2,13 podemos dizer que é 2 que não compraram para 1 que comprou\n",
    "\n",
    "# agora podemos dizer que esamos trabalhando com similiariedade, manteve a proporção de 50% dos daods de treino e teste "
   ]
  }
 ],
 "metadata": {
  "kernelspec": {
   "display_name": "venv",
   "language": "python",
   "name": "python3"
  },
  "language_info": {
   "codemirror_mode": {
    "name": "ipython",
    "version": 3
   },
   "file_extension": ".py",
   "mimetype": "text/x-python",
   "name": "python",
   "nbconvert_exporter": "python",
   "pygments_lexer": "ipython3",
   "version": "3.11.0rc1"
  }
 },
 "nbformat": 4,
 "nbformat_minor": 2
}
